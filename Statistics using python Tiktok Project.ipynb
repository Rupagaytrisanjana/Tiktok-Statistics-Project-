{
 "cells": [
  {
   "cell_type": "code",
   "execution_count": 1,
   "id": "e271b0cb",
   "metadata": {},
   "outputs": [],
   "source": [
    "#TikTok workplace scenario\n",
    "\n",
    "\n",
    "#Background on the TikTok scenario:-\n",
    "\n",
    "#At TikTok, our mission is to inspire creativity and bring joy. Our employees lead with curiosity and move at the speed of culture. Combined with our company's flat structure, you'll be given dynamic opportunities to make a real impact on a rapidly expanding company, and grow your career.\n",
    "#TikTok users have the ability to submit reports that identify videos and comments that contain user claims. These reports identify content that needs to be reviewed by moderators. The process generates a large number of user reports that are challenging to consider in a timely manner. \n",
    "#TikTok is working on the development of a predictive model that can determine whether a video contains a claim or offers an opinion. With a successful prediction model, TikTok can reduce the backlog of user reports and prioritize them more efficiently.\n",
    "\n",
    "#Project background:-\n",
    "\n",
    "#TikTok’s data team is working on the claims classification project. The following tasks are needed at this stage of the project:\n",
    "#Explore the project data\n",
    "#Implement a hypothesis test\n",
    "#Communicate insights with stakeholders within TikTok\n",
    "\n",
    "#Your assignment:-\n",
    "\n",
    "#You will conduct hypothesis testing on the data for the claims classification data. You’ve been asked to investigate TikTok's user claim dataset to determine which hypothesis testing method best serves the data and the claims classification project"
   ]
  },
  {
   "cell_type": "code",
   "execution_count": null,
   "id": "1afc9f91",
   "metadata": {},
   "outputs": [],
   "source": [
    "#PACE: Plan,Analyze,Construct,Execute.This s used to make our project much more easier and organized"
   ]
  },
  {
   "cell_type": "code",
   "execution_count": 3,
   "id": "a54365ad",
   "metadata": {},
   "outputs": [],
   "source": [
    "#PACE: PLAN:-\n",
    "#Task 1. Imports and Data Loading\n",
    "#Import packages and libraries needed to compute descriptive statistics and conduct a hypothesis test\n",
    "\n",
    "# Import packages for data manipulation\n",
    "import pandas as pd\n",
    "import numpy as np\n",
    "\n",
    "# Import packages for data visualization\n",
    "import matplotlib.pyplot as plt\n",
    "import seaborn as sns\n",
    "\n",
    "# Import packages for statistical analysis/hypothesis testing\n",
    "from scipy import stats"
   ]
  },
  {
   "cell_type": "code",
   "execution_count": 10,
   "id": "26d3a6d8",
   "metadata": {},
   "outputs": [],
   "source": [
    "#Load the dataset.\n",
    "data = pd.read_csv(\"tiktok_dataset.csv\")"
   ]
  },
  {
   "cell_type": "code",
   "execution_count": null,
   "id": "89f7bb30",
   "metadata": {},
   "outputs": [],
   "source": [
    "#PACE: Analyze and Construct\n",
    "#Task 2. Data exploration\n",
    "#Use descriptive statistics to conduct Exploratory Data Analysis (EDA)."
   ]
  },
  {
   "cell_type": "code",
   "execution_count": null,
   "id": "31a2f24e",
   "metadata": {},
   "outputs": [],
   "source": [
    "# Display first few rows\n",
    "data.head()"
   ]
  },
  {
   "cell_type": "code",
   "execution_count": null,
   "id": "a15391be",
   "metadata": {},
   "outputs": [],
   "source": [
    "# Generate a table of descriptive statistics about the data\n",
    "data.describe()"
   ]
  },
  {
   "cell_type": "code",
   "execution_count": null,
   "id": "8859fd92",
   "metadata": {},
   "outputs": [],
   "source": [
    "# Check for missing values\n",
    "data.isna().sum()"
   ]
  },
  {
   "cell_type": "code",
   "execution_count": null,
   "id": "4916fb1b",
   "metadata": {},
   "outputs": [],
   "source": [
    "# Drop rows with missing values\n",
    "data = data.dropna(axis=0)"
   ]
  },
  {
   "cell_type": "code",
   "execution_count": null,
   "id": "bdfa6b48",
   "metadata": {},
   "outputs": [],
   "source": [
    "# Display first few rows after handling missing values\n",
    "data.head()"
   ]
  },
  {
   "cell_type": "code",
   "execution_count": null,
   "id": "ad062b9b",
   "metadata": {},
   "outputs": [],
   "source": [
    "# Compute the mean `video_view_count` for each group in `verified_status`\n",
    "### YOUR CODE HERE ###\n",
    "data.groupby(\"verified_status\")[\"video_view_count\"].mean()"
   ]
  },
  {
   "cell_type": "code",
   "execution_count": null,
   "id": "ec09d728",
   "metadata": {},
   "outputs": [],
   "source": [
    "#Task 3. Hypothesis testing\n",
    "#he steps for conducting a hypothesis test:\n",
    "#State the null hypothesis and the alternative hypothesis\n",
    "#Choose a signficance level\n",
    "#Find the p-value\n",
    "#Reject or fail to reject the null hypothesis\n",
    "\n",
    "#𝐻0: There is no difference in number of views between TikTok videos posted by verified accounts and TikTok videos posted by unverified accounts (any observed difference in the sample data is due to chance or sampling variability).\n",
    "#𝐻𝐴: There is a difference in number of views between TikTok videos posted by verified accounts and TikTok videos posted by unverified accounts (any observed difference in the sample data is due to an actual difference in the corresponding population means).\n",
    "#choose 5% as the significance level and proceed with a two-sample t-test.\n",
    "\n",
    "\n",
    "\n",
    "# Conduct a two-sample t-test to compare means\n",
    "### YOUR CODE HERE ###\n",
    "\n",
    "# Save each sample in a variable\n",
    "not_verified = data[data[\"verified_status\"] == \"not verified\"][\"video_view_count\"]\n",
    "verified = data[data[\"verified_status\"] == \"verified\"][\"video_view_count\"]\n",
    "\n",
    "# Implement a t-test using the two samples\n",
    "stats.ttest_ind(a=not_verified, b=verified, equal_var=False)\n",
    "\n"
   ]
  },
  {
   "cell_type": "code",
   "execution_count": null,
   "id": "ca7bcc07",
   "metadata": {},
   "outputs": [],
   "source": [
    "#Since the p-value is extremely small (much smaller than the significance level of 5%), you reject the null hypothesis.\n",
    "#You conclude that there is a statistically significant difference in the mean video view count between verified \n",
    "#and unverified accounts on TikTok."
   ]
  },
  {
   "cell_type": "code",
   "execution_count": null,
   "id": "297a6658",
   "metadata": {},
   "outputs": [],
   "source": [
    "# PACE: Execute\n",
    "#Task 4. Communicate insights with stakeholders\n",
    "\n",
    "\n",
    "# que:- What business insight(s) can you draw from the result of your hypothesis test?\n",
    "#ans:-The analysis shows that there is a statistically significant difference in the average view counts between videos \n",
    "#from verified accounts and videos from unverified accounts. This suggests there might be fundamental behavioral differences \n",
    "#between these two groups of accounts."
   ]
  }
 ],
 "metadata": {
  "kernelspec": {
   "display_name": "Python 3 (ipykernel)",
   "language": "python",
   "name": "python3"
  },
  "language_info": {
   "codemirror_mode": {
    "name": "ipython",
    "version": 3
   },
   "file_extension": ".py",
   "mimetype": "text/x-python",
   "name": "python",
   "nbconvert_exporter": "python",
   "pygments_lexer": "ipython3",
   "version": "3.9.12"
  }
 },
 "nbformat": 4,
 "nbformat_minor": 5
}
